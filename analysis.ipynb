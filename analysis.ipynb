{
 "cells": [
  {
   "cell_type": "code",
   "execution_count": null,
   "metadata": {},
   "outputs": [],
   "source": [
    "import sys\n",
    "import json\n",
    "import jsonschema\n",
    "import fastjsonschema\n",
    "\n",
    "with open('failed_cases.json') as f:\n",
    "    failed_cases = json.load(f)\n",
    "\n",
    "print(len(failed_cases))"
   ]
  },
  {
   "cell_type": "code",
   "execution_count": null,
   "metadata": {},
   "outputs": [],
   "source": [
    "def re_appear(idx, case):\n",
    "    schema = case[0]\n",
    "    data = case[1]\n",
    "\n",
    "    try:\n",
    "        jsonschema.validate(data, schema)\n",
    "    except Exception as e:\n",
    "        print(idx,'JSON Schema:',str(e).split('\\n')[0])\n",
    "    try:\n",
    "        fastjsonschema.validate(schema, data)\n",
    "    except Exception as e:\n",
    "        print(idx,'fastjsonschema:',str(e).split('\\n')[0])\n",
    "\n",
    "for idx, case in enumerate(failed_cases):\n",
    "    re_appear(idx, case)"
   ]
  }
 ],
 "metadata": {
  "kernelspec": {
   "display_name": "json",
   "language": "python",
   "name": "python3"
  },
  "language_info": {
   "codemirror_mode": {
    "name": "ipython",
    "version": 3
   },
   "file_extension": ".py",
   "mimetype": "text/x-python",
   "name": "python",
   "nbconvert_exporter": "python",
   "pygments_lexer": "ipython3",
   "version": "3.12.0"
  }
 },
 "nbformat": 4,
 "nbformat_minor": 2
}
