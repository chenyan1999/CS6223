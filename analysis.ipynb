{
 "cells": [
  {
   "cell_type": "code",
   "execution_count": 118,
   "metadata": {},
   "outputs": [
    {
     "name": "stdout",
     "output_type": "stream",
     "text": [
      "15\n"
     ]
    }
   ],
   "source": [
    "import sys\n",
    "import json\n",
    "import jsonschema\n",
    "import fastjsonschema\n",
    "\n",
    "with open('failed_cases.json') as f:\n",
    "    failed_cases = json.load(f)\n",
    "\n",
    "print(len(failed_cases))"
   ]
  },
  {
   "cell_type": "code",
   "execution_count": 119,
   "metadata": {},
   "outputs": [],
   "source": [
    "def detect_exist_error(msg):\n",
    "    # errors_found = ['is not of type \\'boolean\\'',\n",
    "    #             'must be multiple of',\n",
    "    #             'must be email',\n",
    "    #             'must be uri-template',\n",
    "    #             'must be relative-json-pointer',\n",
    "    #             'must be uri-reference',\n",
    "    #             'must be hostname',\n",
    "    #             'must be date-time',\n",
    "    #             'must be uri',\n",
    "    #             'must be date',\n",
    "    #             'must be ipv4',\n",
    "    #             'must be ipv6',\n",
    "    #             'must be time',\n",
    "    #             'must be json-pointer',\n",
    "    #             'Unknown format: float',\n",
    "    #             'Unknown format: date',\n",
    "    #             'Unknown format: time',\n",
    "    #             'Unknown format: json-pointer',\n",
    "    #             'Unknown format: relative-json-pointer',\n",
    "    #             'Unknown format: uri-template',\n",
    "    #             'Unknown format: uri-reference',\n",
    "    #             ]\n",
    "    # for found_err in errors_found:\n",
    "    #     if found_err in msg:\n",
    "    #         return True\n",
    "    return False"
   ]
  },
  {
   "cell_type": "code",
   "execution_count": 120,
   "metadata": {},
   "outputs": [
    {
     "name": "stdout",
     "output_type": "stream",
     "text": [
      "0 JSON Schema: 0.6210726542523437 is not of type 'boolean'\n",
      "1 JSON Schema: 1.8027335676042202 is not of type 'boolean'\n",
      "2 JSON Schema: -0.3062286029639025 is not of type 'boolean'\n",
      "3 JSON Schema: -0.3062286029639025 is not of type 'boolean'\n",
      "4 JSON Schema: 0.3025340478992419 is not of type 'boolean'\n",
      "5 JSON Schema: 0.3025340478992419 is not of type 'boolean'\n",
      "6 JSON Schema: -1.9300694554601012 is not of type 'boolean'\n",
      "7 JSON Schema: 1.232910386187656 is not of type 'boolean'\n",
      "8 JSON Schema: 0.0010995772329397504 is not of type 'boolean'\n",
      "9 JSON Schema: 0.0010995772329397504 is not of type 'boolean'\n",
      "10 JSON Schema: -0.48665372139030183 is not of type 'boolean'\n",
      "11 JSON Schema: -0.48665372139030183 is not of type 'boolean'\n",
      "12 JSON Schema: -0.48665372139030183 is not of type 'boolean'\n",
      "13 JSON Schema: -0.41947608759026356 is not of type 'boolean'\n",
      "14 JSON Schema: -1.133441162254823 is not of type 'boolean'\n"
     ]
    }
   ],
   "source": [
    "def re_appear(idx, case):\n",
    "    schema = case[0]\n",
    "    data = case[1]\n",
    "\n",
    "    try:\n",
    "        jsonschema.validate(data, schema)\n",
    "    except Exception as e:\n",
    "        if not detect_exist_error(str(e).split('\\n')[0]):\n",
    "            print(idx,'JSON Schema:',str(e).split('\\n')[0])\n",
    "    try:\n",
    "        fastjsonschema.validate(schema, data)\n",
    "    except Exception as e:\n",
    "        if not detect_exist_error(str(e).split('\\n')[0]):\n",
    "            print(idx,'fastjsonschema:',str(e).split('\\n')[0])\n",
    "\n",
    "for idx, case in enumerate(failed_cases):\n",
    "    re_appear(idx, case)"
   ]
  },
  {
   "cell_type": "code",
   "execution_count": null,
   "metadata": {},
   "outputs": [],
   "source": [
    "idx = 0\n",
    "print(failed_cases[idx][0])\n",
    "print(failed_cases[idx][1])\n",
    "\n",
    "schema = failed_cases[idx][0]\n",
    "data = failed_cases[idx][1]"
   ]
  },
  {
   "cell_type": "code",
   "execution_count": null,
   "metadata": {},
   "outputs": [],
   "source": [
    "fastjsonschema.validate(schema, data)\n",
    "jsonschema.validate(data, schema)"
   ]
  },
  {
   "cell_type": "code",
   "execution_count": null,
   "metadata": {},
   "outputs": [],
   "source": [
    "instance = 9007199254740995\n",
    "jsonschema.validate(instance, schema={\"type\": \"integer\", \"multipleOf\": 11})    # passes\n",
    "jsonschema.validate(instance, schema={\"type\": \"integer\", \"multipleOf\": 11.0})  # fails"
   ]
  },
  {
   "cell_type": "code",
   "execution_count": null,
   "metadata": {},
   "outputs": [],
   "source": [
    "schema = {\n",
    "    '$schema': 'http://json-schema.org/draft-04/schema#', \n",
    "    'type': 'object', \n",
    "    'maxProperties': 4, \n",
    "    'properties': {\n",
    "        'key_0': {'type': 'string'}, \n",
    "        'key_1': {'type': 'number', 'enum': [10.471594176128862, 26.234946371308855, 80.07898822921796, 7.161984531775978, 34.6065157170108, 87.15753317414759, 25.610253330616185, 92.64172326342123, 87.06111760709582, 45.49956631842195]}, \n",
    "        'key_2': {'type': 'number', 'exclusiveMaximum': -0.23108844150370622, 'exclusiveMaximum': -0.23108844150370622, 'enum': [-0.11188467007014183, -0.18278319922975697, -0.13023708656325633, -0.025670652345984372, -0.04212184657464823, -0.14863783542788633, -0.2073770267423395, -0.052142559963842226, -0.06395751442524324, -0.18156828162509958]}, \n",
    "        'key_3': {'type': 'boolean', 'enum': [True, False]}, \n",
    "        'key_4': {'type': 'null'}\n",
    "    }, \n",
    "    'required': ['key_0']\n",
    "}\n",
    "data = {'key_0': 'Lorem architecto veniam consectetur reiciendis'}\n",
    "\n",
    "fastjsonschema.validate(schema, data)\n",
    "jsonschema.validate(data, schema)"
   ]
  },
  {
   "cell_type": "code",
   "execution_count": null,
   "metadata": {},
   "outputs": [],
   "source": []
  }
 ],
 "metadata": {
  "kernelspec": {
   "display_name": "json",
   "language": "python",
   "name": "python3"
  },
  "language_info": {
   "codemirror_mode": {
    "name": "ipython",
    "version": 3
   },
   "file_extension": ".py",
   "mimetype": "text/x-python",
   "name": "python",
   "nbconvert_exporter": "python",
   "pygments_lexer": "ipython3",
   "version": "3.12.0"
  }
 },
 "nbformat": 4,
 "nbformat_minor": 2
}
