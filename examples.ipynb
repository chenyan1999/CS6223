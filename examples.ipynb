{
 "cells": [
  {
   "cell_type": "markdown",
   "metadata": {},
   "source": [
    "## **Case 1: float multiplication**\n",
    "* Error message from **fastjsonschema: data.key_5 must be multiple of 4.858131431621712**\n",
    "* Error message from **JSON Schema: 70.571920110163 is not a multiple of 2.82287680440652**\n",
    "* Reason behind: can not properly address the multiplication relation between float values"
   ]
  },
  {
   "cell_type": "code",
   "execution_count": null,
   "metadata": {},
   "outputs": [],
   "source": [
    "schema = {\n",
    "    '$schema': 'http://json-schema.org/draft-07/schema#', \n",
    "    'type': 'object', \n",
    "    'minProperties': 1, \n",
    "    'properties': {\n",
    "        'key_0': {'type': 'null'}, \n",
    "        'key_1': {'type': 'boolean'}, \n",
    "        'key_2': {'type': 'boolean'}, \n",
    "        'key_5': {'type': 'number', 'minimum': 7.0, 'multipleOf': 4.858131431621712}\n",
    "    }\n",
    "}\n",
    "data = {'key_0': None, 'key_1': False, 'key_2': True, 'key_5': 4508.345968544949}"
   ]
  },
  {
   "cell_type": "markdown",
   "metadata": {},
   "source": [
    "## Case 2: jschema dont know str format\n",
    "* Error message from **fastjsonschema: data.key_0 must be email**\n",
    "* Reason behind: jsonschema do not distinguish the format of string"
   ]
  },
  {
   "cell_type": "code",
   "execution_count": null,
   "metadata": {},
   "outputs": [],
   "source": [
    "schema = \n",
    "{\n",
    "    '$schema': 'http://json-schema.org/draft-04/schema#', \n",
    "    'type': 'object', \n",
    "    'minProperties': 3, \n",
    "    'properties': {\n",
    "        'key_0': {'type': 'string', 'format': 'email'}, \n",
    "        'key_1': {'type': 'boolean'}\n",
    "    }, \n",
    "    'required': ['key_0', 'key_1']\n",
    "}\n",
    "data = {'key_0': 'sit Hic reiciendis exercitationem illum possimus', 'key_1': False, 'key_3': 6.0}"
   ]
  },
  {
   "cell_type": "markdown",
   "metadata": {},
   "source": [
    "## Case 3:  different allowed type for jsonschema and fastjsonschema\n",
    "* Error message from **JSON Schema: 1 is not of type 'boolean'**\n",
    "* Reasons behind: jsonschema think exclusiveMinimum must be boolean value, and fastjsonschema think it is a value"
   ]
  },
  {
   "cell_type": "code",
   "execution_count": null,
   "metadata": {},
   "outputs": [],
   "source": [
    "schema = {\n",
    "    '$schema': 'http://json-schema.org/draft-04/schema#', \n",
    "    'type': 'object', \n",
    "    'minProperties': 1, \n",
    "    'maxProperties': 5, \n",
    "    'properties': {\n",
    "        'key_0': {'type': 'number', 'exclusiveMaximum': 1}, \n",
    "        'key_1': {'type': 'boolean'}, \n",
    "        'key_2': {'type': 'integer', 'exclusiveMaximum': 22, 'multipleOf': 3.0}\n",
    "    }, \n",
    "    'required': ['key_0', 'key_2']\n",
    "}\n",
    "data = {'key_0': 0.0, 'key_2': 3}"
   ]
  },
  {
   "cell_type": "markdown",
   "metadata": {},
   "source": [
    "## Case 4: fastjsonschema miss str format: \n",
    "* Error message from **fastjsonschema: Unknown format: float**\n",
    "* Reason behind: fastjsonschema do not have format: float, relative-json-pointer, json-pointer, uri-reference, time"
   ]
  },
  {
   "cell_type": "code",
   "execution_count": null,
   "metadata": {},
   "outputs": [],
   "source": [
    "schema = {\n",
    "    '$schema': 'http://json-schema.org/draft-06/schema#', \n",
    "    'type': 'object', \n",
    "    'minProperties': 2, \n",
    "    'properties': {\n",
    "        'key_0': {'type': 'boolean'}, \n",
    "        'key_1': {'type': 'boolean'}, \n",
    "        'key_2': {'type': 'string'}, \n",
    "        'key_3': {'type': 'string', 'format': 'float'}, \n",
    "        'key_4': {'type': 'string'}\n",
    "    }, \n",
    "    'required': ['key_3']\n",
    "}\n",
    "data = {'key_2': 'placeat', 'key_3': '3.1415926'}"
   ]
  },
  {
   "cell_type": "markdown",
   "metadata": {},
   "source": [
    "## Case 5: fastjsonschema fail to handle big negative number multiplication\n",
    "* Error message from **JSON Schema: -2211865240263115264 is not a multiple of 10**\n",
    "* Reasons behind: fastjsonschema failed at multiplication of big negative number"
   ]
  },
  {
   "cell_type": "code",
   "execution_count": null,
   "metadata": {},
   "outputs": [],
   "source": [
    "schema = {\n",
    "    '$schema': 'http://json-schema.org/draft-06/schema#', \n",
    "    'type': 'object', \n",
    "    'properties': {\n",
    "        'key_0': {'type': 'string', 'formatMinimum': 29, 'formatMaximum': 116}, \n",
    "        'key_1': {'type': 'integer', 'exclusiveMinimum': -7.292848017814438e+18, 'multipleOf': 10}, \n",
    "        'key_2': {'type': 'integer', 'exclusiveMinimum': -5.500105580101115e+18}, \n",
    "        'key_3': {'type': 'number', 'minimum': 1.815908441888865}\n",
    "    }, \n",
    "    'required': ['key_0', 'key_1', 'key_3', 'key_2']\n",
    "}\n",
    "data = {'key_0': 'culpa! dolor nobis odit', 'key_1': -2211865240263115264, 'key_2': -4258926556732358656, 'key_3': 7822.0}"
   ]
  },
  {
   "cell_type": "markdown",
   "metadata": {},
   "source": [
    "## Case 6: jsonschema fail to handle big negative number multiplication\n",
    "* Error message from **fast JSON Schema: data.key_0 must be multiple of 9.0**\n",
    "* Reasons behind: jsonschema failed at multiplication of big positive number"
   ]
  },
  {
   "cell_type": "code",
   "execution_count": null,
   "metadata": {},
   "outputs": [],
   "source": [
    "schema = {\n",
    "    '$schema': 'http://json-schema.org/draft-04/schema#', \n",
    "    'type': 'object', \n",
    "    'minProperties': 1, \n",
    "    'properties': {\n",
    "        'key_0': {'type': 'integer', 'minimum': 3304532290320861516, 'maximum': 7.071183670487719e+18, 'multipleOf': 9.0}, \n",
    "        'key_1': {'type': 'integer', 'minimum': -3.272406734571081e+18, 'multipleOf': 6}\n",
    "    }\n",
    "}\n",
    "data = {'key_0': 5794187142976926720}"
   ]
  },
  {
   "cell_type": "code",
   "execution_count": null,
   "metadata": {},
   "outputs": [],
   "source": []
  }
 ],
 "metadata": {
  "language_info": {
   "name": "python"
  }
 },
 "nbformat": 4,
 "nbformat_minor": 2
}
